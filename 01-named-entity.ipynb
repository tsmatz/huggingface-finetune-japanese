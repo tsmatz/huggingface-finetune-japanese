{
 "cells": [
  {
   "cell_type": "markdown",
   "id": "14410483",
   "metadata": {},
   "source": [
    "# Hugging Face - Named entity recognition (NER) in Japanese\n",
    "\n",
    "*back to [index](https://github.com/tsmatz/huggingface-finetune-japanese/)*"
   ]
  },
  {
   "cell_type": "markdown",
   "id": "8ec4dd94",
   "metadata": {},
   "source": [
    "## Install required packages"
   ]
  },
  {
   "cell_type": "code",
   "execution_count": null,
   "id": "12a86426",
   "metadata": {},
   "outputs": [],
   "source": [
    "!pip install numpy seqeval pandas matplotlib scikit-learn"
   ]
  },
  {
   "cell_type": "markdown",
   "id": "c04ef40e",
   "metadata": {},
   "source": [
    "## Check device\n",
    "\n",
    "Check whether GPU is available."
   ]
  },
  {
   "cell_type": "code",
   "execution_count": 1,
   "id": "f5bc098b",
   "metadata": {},
   "outputs": [
    {
     "name": "stdout",
     "output_type": "stream",
     "text": [
      "GPU is enabled.\n",
      "device count: 1, current device: 0\n"
     ]
    }
   ],
   "source": [
    "import torch\n",
    "\n",
    "if torch.cuda.is_available():\n",
    "    print(\"GPU is enabled.\")\n",
    "    print(\"device count: {}, current device: {}\".format(torch.cuda.device_count(), torch.cuda.current_device()))\n",
    "else:\n",
    "    print(\"GPU is not enabled.\")\n",
    "device = torch.device(\"cuda\" if torch.cuda.is_available() else \"cpu\")"
   ]
  },
  {
   "cell_type": "markdown",
   "id": "5163ab77",
   "metadata": {},
   "source": [
    "## Prepare data"
   ]
  },
  {
   "cell_type": "markdown",
   "id": "41304d0e",
   "metadata": {},
   "source": [
    "In this example, we use Wikipedia Japanese NER dataset by Stockmark Inc.<br>\n",
    "Please download ```ner.json``` from [here](https://github.com/stockmarkteam/ner-wikipedia-dataset), and load data."
   ]
  },
  {
   "cell_type": "code",
   "execution_count": null,
   "id": "d53be767",
   "metadata": {},
   "outputs": [],
   "source": [
    "##### When you use PAN-X.ja, please use below\n",
    "# from collections import defaultdict\n",
    "# from datasets import load_dataset, DatasetDict\n",
    "# panx_ch = defaultdict(DatasetDict)\n",
    "# ds = load_dataset(\"xtreme\", name=\"PAN-X.ja\")"
   ]
  },
  {
   "cell_type": "code",
   "execution_count": 2,
   "id": "3ffe8bfa",
   "metadata": {},
   "outputs": [],
   "source": [
    "import json\n",
    "\n",
    "with open(\"ner.json\") as f:\n",
    "    json_all = json.load(f)"
   ]
  },
  {
   "cell_type": "markdown",
   "id": "41ba57e6",
   "metadata": {},
   "source": [
    "Create HuggingFace dataset."
   ]
  },
  {
   "cell_type": "code",
   "execution_count": 3,
   "id": "79c1de15",
   "metadata": {},
   "outputs": [
    {
     "name": "stderr",
     "output_type": "stream",
     "text": [
      "/usr/lib/python3/dist-packages/requests/__init__.py:89: RequestsDependencyWarning: urllib3 (1.26.12) or chardet (3.0.4) doesn't match a supported version!\n",
      "  warnings.warn(\"urllib3 ({}) or chardet ({}) doesn't match a supported \"\n"
     ]
    },
    {
     "data": {
      "text/plain": [
       "Dataset({\n",
       "    features: ['tokens', 'ner_tags'],\n",
       "    num_rows: 5343\n",
       "})"
      ]
     },
     "execution_count": 3,
     "metadata": {},
     "output_type": "execute_result"
    }
   ],
   "source": [
    "from datasets import Dataset, Features, Sequence, Value, ClassLabel\n",
    "\n",
    "tokens_list = []\n",
    "ner_tags_list = []\n",
    "for json_dat in json_all:\n",
    "    tokens = list(json_dat[\"text\"])\n",
    "    ner_tags = [\"O\"] * len(tokens)\n",
    "    for ent in json_dat[\"entities\"]:\n",
    "        for i in range(ent[\"span\"][0], ent[\"span\"][1]):\n",
    "            # See https://github.com/stockmarkteam/ner-wikipedia-dataset\n",
    "            if ent[\"type\"] == \"人名\":  # person\n",
    "                ner_tags[i] = \"PER\"\n",
    "            elif ent[\"type\"] == \"法人名\":  # organization (corporation general)\n",
    "                ner_tags[i] = \"ORG\"\n",
    "            elif ent[\"type\"] == \"政治的組織名\":  # organization (political)\n",
    "                ner_tags[i] = \"ORG-P\"\n",
    "            elif ent[\"type\"] == \"その他の組織名\":  # organization (others)\n",
    "                ner_tags[i] = \"ORG-O\"\n",
    "            elif ent[\"type\"] == \"地名\":  # location\n",
    "                ner_tags[i] = \"LOC\"\n",
    "            elif ent[\"type\"] == \"施設名\":  # institution (facility)\n",
    "                ner_tags[i] = \"INS\"\n",
    "            elif ent[\"type\"] == \"製品名\":  # product\n",
    "                ner_tags[i] = \"PRD\"\n",
    "            elif ent[\"type\"] == \"イベント名\":  # event\n",
    "                ner_tags[i] = \"EVT\"\n",
    "    tokens_list.append(tokens)\n",
    "    ner_tags_list.append(ner_tags)\n",
    "\n",
    "features = Features({\n",
    "    \"tokens\": Sequence(feature=Value(dtype='string', id=None), length=-1, id=None),\n",
    "    \"ner_tags\": Sequence(feature=ClassLabel(names=[\"O\", \"PER\", \"ORG\", \"ORG-P\", \"ORG-O\", \"LOC\", \"INS\", \"PRD\", \"EVT\"], id=None), length=-1, id=None)\n",
    "})\n",
    "ds = Dataset.from_dict(\n",
    "    {\"tokens\": tokens_list, \"ner_tags\": ner_tags_list},\n",
    "    features=features\n",
    ")\n",
    "ds"
   ]
  },
  {
   "cell_type": "markdown",
   "id": "a6808b77",
   "metadata": {},
   "source": [
    "Split dataset into train and validation."
   ]
  },
  {
   "cell_type": "code",
   "execution_count": 4,
   "id": "15e467ac",
   "metadata": {},
   "outputs": [
    {
     "data": {
      "text/plain": [
       "DatasetDict({\n",
       "    train: Dataset({\n",
       "        features: ['tokens', 'ner_tags'],\n",
       "        num_rows: 4808\n",
       "    })\n",
       "    test: Dataset({\n",
       "        features: ['tokens', 'ner_tags'],\n",
       "        num_rows: 535\n",
       "    })\n",
       "})"
      ]
     },
     "execution_count": 4,
     "metadata": {},
     "output_type": "execute_result"
    }
   ],
   "source": [
    "ds = ds.train_test_split(test_size=0.1, shuffle=True)\n",
    "ds"
   ]
  },
  {
   "cell_type": "markdown",
   "id": "19373068",
   "metadata": {},
   "source": [
    "The ```ner_tags``` feature are labeled by ```ClassLabel``` index."
   ]
  },
  {
   "cell_type": "code",
   "execution_count": 5,
   "id": "ae038da0",
   "metadata": {},
   "outputs": [
    {
     "data": {
      "text/plain": [
       "ClassLabel(names=['O', 'PER', 'ORG', 'ORG-P', 'ORG-O', 'LOC', 'INS', 'PRD', 'EVT'], id=None)"
      ]
     },
     "execution_count": 5,
     "metadata": {},
     "output_type": "execute_result"
    }
   ],
   "source": [
    "tags = ds[\"train\"].features[\"ner_tags\"].feature\n",
    "index2tag = {idx: tag for idx, tag in enumerate(tags.names)}\n",
    "tag2index = {tag: idx for idx, tag in enumerate(tags.names)}\n",
    "tags"
   ]
  },
  {
   "cell_type": "markdown",
   "id": "5852b4df",
   "metadata": {},
   "source": [
    "See tokens in original dataset.<br>\n",
    "You will find that it's now tokenized in each character."
   ]
  },
  {
   "cell_type": "code",
   "execution_count": 6,
   "id": "eb4edbca",
   "metadata": {},
   "outputs": [
    {
     "data": {
      "text/html": [
       "<div>\n",
       "<style scoped>\n",
       "    .dataframe tbody tr th:only-of-type {\n",
       "        vertical-align: middle;\n",
       "    }\n",
       "\n",
       "    .dataframe tbody tr th {\n",
       "        vertical-align: top;\n",
       "    }\n",
       "\n",
       "    .dataframe thead th {\n",
       "        text-align: right;\n",
       "    }\n",
       "</style>\n",
       "<table border=\"1\" class=\"dataframe\">\n",
       "  <thead>\n",
       "    <tr style=\"text-align: right;\">\n",
       "      <th></th>\n",
       "      <th>0</th>\n",
       "      <th>1</th>\n",
       "      <th>2</th>\n",
       "      <th>3</th>\n",
       "      <th>4</th>\n",
       "      <th>5</th>\n",
       "      <th>6</th>\n",
       "      <th>7</th>\n",
       "      <th>8</th>\n",
       "      <th>9</th>\n",
       "      <th>...</th>\n",
       "      <th>49</th>\n",
       "      <th>50</th>\n",
       "      <th>51</th>\n",
       "      <th>52</th>\n",
       "      <th>53</th>\n",
       "      <th>54</th>\n",
       "      <th>55</th>\n",
       "      <th>56</th>\n",
       "      <th>57</th>\n",
       "      <th>58</th>\n",
       "    </tr>\n",
       "  </thead>\n",
       "  <tbody>\n",
       "    <tr>\n",
       "      <th>tokens</th>\n",
       "      <td>名</td>\n",
       "      <td>誉</td>\n",
       "      <td>革</td>\n",
       "      <td>命</td>\n",
       "      <td>に</td>\n",
       "      <td>よ</td>\n",
       "      <td>る</td>\n",
       "      <td>ヴ</td>\n",
       "      <td>ォ</td>\n",
       "      <td>ー</td>\n",
       "      <td>...</td>\n",
       "      <td>た</td>\n",
       "      <td>こ</td>\n",
       "      <td>と</td>\n",
       "      <td>が</td>\n",
       "      <td>挙</td>\n",
       "      <td>げ</td>\n",
       "      <td>ら</td>\n",
       "      <td>れ</td>\n",
       "      <td>る</td>\n",
       "      <td>。</td>\n",
       "    </tr>\n",
       "    <tr>\n",
       "      <th>ner_tags</th>\n",
       "      <td>8</td>\n",
       "      <td>8</td>\n",
       "      <td>8</td>\n",
       "      <td>8</td>\n",
       "      <td>0</td>\n",
       "      <td>0</td>\n",
       "      <td>0</td>\n",
       "      <td>1</td>\n",
       "      <td>1</td>\n",
       "      <td>1</td>\n",
       "      <td>...</td>\n",
       "      <td>0</td>\n",
       "      <td>0</td>\n",
       "      <td>0</td>\n",
       "      <td>0</td>\n",
       "      <td>0</td>\n",
       "      <td>0</td>\n",
       "      <td>0</td>\n",
       "      <td>0</td>\n",
       "      <td>0</td>\n",
       "      <td>0</td>\n",
       "    </tr>\n",
       "  </tbody>\n",
       "</table>\n",
       "<p>2 rows × 59 columns</p>\n",
       "</div>"
      ],
      "text/plain": [
       "         0  1  2  3  4  5  6  7  8  9   ... 49 50 51 52 53 54 55 56 57 58\n",
       "tokens    名  誉  革  命  に  よ  る  ヴ  ォ  ー  ...  た  こ  と  が  挙  げ  ら  れ  る  。\n",
       "ner_tags  8  8  8  8  0  0  0  1  1  1  ...  0  0  0  0  0  0  0  0  0  0\n",
       "\n",
       "[2 rows x 59 columns]"
      ]
     },
     "execution_count": 6,
     "metadata": {},
     "output_type": "execute_result"
    }
   ],
   "source": [
    "import pandas as pd\n",
    "\n",
    "pd.DataFrame(\n",
    "    [ds[\"train\"][0][\"tokens\"], ds[\"train\"][0][\"ner_tags\"]],\n",
    "    index=[\"tokens\", \"ner_tags\"])"
   ]
  },
  {
   "cell_type": "markdown",
   "id": "709baaa8",
   "metadata": {},
   "source": [
    "Load tokenizer in pre-trained ```xlm-roberta-base``` model. (Tokenizer is not trained.)"
   ]
  },
  {
   "cell_type": "code",
   "execution_count": 7,
   "id": "c161c477",
   "metadata": {},
   "outputs": [
    {
     "data": {
      "application/vnd.jupyter.widget-view+json": {
       "model_id": "668ccd84293a46519906598434d3f191",
       "version_major": 2,
       "version_minor": 0
      },
      "text/plain": [
       "Downloading:   0%|          | 0.00/615 [00:00<?, ?B/s]"
      ]
     },
     "metadata": {},
     "output_type": "display_data"
    },
    {
     "data": {
      "application/vnd.jupyter.widget-view+json": {
       "model_id": "5d07e4d1fb394f7e9503356e88026a27",
       "version_major": 2,
       "version_minor": 0
      },
      "text/plain": [
       "Downloading:   0%|          | 0.00/5.07M [00:00<?, ?B/s]"
      ]
     },
     "metadata": {},
     "output_type": "display_data"
    },
    {
     "data": {
      "application/vnd.jupyter.widget-view+json": {
       "model_id": "74c6dd99696c425bb8b96701361294b9",
       "version_major": 2,
       "version_minor": 0
      },
      "text/plain": [
       "Downloading:   0%|          | 0.00/9.10M [00:00<?, ?B/s]"
      ]
     },
     "metadata": {},
     "output_type": "display_data"
    }
   ],
   "source": [
    "from transformers import AutoTokenizer\n",
    "\n",
    "xlmr_tokenizer = AutoTokenizer.from_pretrained(\"xlm-roberta-base\")"
   ]
  },
  {
   "cell_type": "markdown",
   "id": "a23377b7",
   "metadata": {},
   "source": [
    "See how text is tokenized with this tokenizer.<br>\n",
    "You will find that it's tokenized with words. We should then convertcharacter-based tokens (which is current format in dataset) into word-based tokens."
   ]
  },
  {
   "cell_type": "code",
   "execution_count": 8,
   "id": "6a82f27e",
   "metadata": {},
   "outputs": [
    {
     "data": {
      "text/html": [
       "<div>\n",
       "<style scoped>\n",
       "    .dataframe tbody tr th:only-of-type {\n",
       "        vertical-align: middle;\n",
       "    }\n",
       "\n",
       "    .dataframe tbody tr th {\n",
       "        vertical-align: top;\n",
       "    }\n",
       "\n",
       "    .dataframe thead th {\n",
       "        text-align: right;\n",
       "    }\n",
       "</style>\n",
       "<table border=\"1\" class=\"dataframe\">\n",
       "  <thead>\n",
       "    <tr style=\"text-align: right;\">\n",
       "      <th></th>\n",
       "      <th>0</th>\n",
       "      <th>1</th>\n",
       "      <th>2</th>\n",
       "      <th>3</th>\n",
       "      <th>4</th>\n",
       "      <th>5</th>\n",
       "      <th>6</th>\n",
       "      <th>7</th>\n",
       "      <th>8</th>\n",
       "      <th>9</th>\n",
       "      <th>...</th>\n",
       "      <th>27</th>\n",
       "      <th>28</th>\n",
       "      <th>29</th>\n",
       "      <th>30</th>\n",
       "      <th>31</th>\n",
       "      <th>32</th>\n",
       "      <th>33</th>\n",
       "      <th>34</th>\n",
       "      <th>35</th>\n",
       "      <th>36</th>\n",
       "    </tr>\n",
       "  </thead>\n",
       "  <tbody>\n",
       "    <tr>\n",
       "      <th>tokens</th>\n",
       "      <td>&lt;s&gt;</td>\n",
       "      <td>▁</td>\n",
       "      <td>名</td>\n",
       "      <td>誉</td>\n",
       "      <td>革命</td>\n",
       "      <td>による</td>\n",
       "      <td>ヴ</td>\n",
       "      <td>ォ</td>\n",
       "      <td>ーン</td>\n",
       "      <td>の影響</td>\n",
       "      <td>...</td>\n",
       "      <td>る</td>\n",
       "      <td>ぎ</td>\n",
       "      <td>ない</td>\n",
       "      <td>もの</td>\n",
       "      <td>にした</td>\n",
       "      <td>ことが</td>\n",
       "      <td>挙げ</td>\n",
       "      <td>られる</td>\n",
       "      <td>。</td>\n",
       "      <td>&lt;/s&gt;</td>\n",
       "    </tr>\n",
       "  </tbody>\n",
       "</table>\n",
       "<p>1 rows × 37 columns</p>\n",
       "</div>"
      ],
      "text/plain": [
       "         0  1  2  3   4    5  6  7   8    9   ... 27 28  29  30   31   32  33  \\\n",
       "tokens  <s>  ▁  名  誉  革命  による  ヴ  ォ  ーン  の影響  ...  る  ぎ  ない  もの  にした  ことが  挙げ   \n",
       "\n",
       "         34 35    36  \n",
       "tokens  られる  。  </s>  \n",
       "\n",
       "[1 rows x 37 columns]"
      ]
     },
     "execution_count": 8,
     "metadata": {},
     "output_type": "execute_result"
    }
   ],
   "source": [
    "test_encoding = xlmr_tokenizer(\"\".join(ds[\"train\"][\"tokens\"][0]))\n",
    "pd.DataFrame(\n",
    "    [xlmr_tokenizer.convert_ids_to_tokens(test_encoding.input_ids)],\n",
    "    index=[\"tokens\"])"
   ]
  },
  {
   "cell_type": "markdown",
   "id": "bc7d9a7b",
   "metadata": {},
   "source": [
    "Convert character-based tokens into word-based tokens as follows.<br>\n",
    "Labels are also converted into the corresponding tokens.\n",
    "\n",
    "<ins>dataset tokens</ins>\n",
    "\n",
    "| | 0 | 1 | 2 | 3 | 4 | 5 | 6 | 7 |\n",
    "| ---------- | -- | -- | -- | -- | -- | -- | -- | -- |\n",
    "| **Tokens** | 松 | 崎 | は | 日 | 本 | に | い | る |\n",
    "| **Tags**   | PER | PER | O | LOC | LOC | O | O | O |\n",
    "\n",
    "<ins>required tokens in this model</ins>\n",
    "\n",
    "| | 0 | 1 | 2 | 3 | 4 | 5 | 6 |\n",
    "| ---------- | -- | -- |-- |-- |-- |-- |-- |\n",
    "| **Tokens** | ▁ | 松 | 崎 | は | 日本 | に | いる |\n",
    "| **Tags**   | PER | PER | PER | O | LOC | O | O |"
   ]
  },
  {
   "cell_type": "code",
   "execution_count": 9,
   "id": "dac6f5f5",
   "metadata": {},
   "outputs": [],
   "source": [
    "#\n",
    "# See https://huggingface.co/docs/transformers/main_classes/tokenizer#transformers.BatchEncoding\n",
    "#\n",
    "\n",
    "import numpy as np\n",
    "\n",
    "def tokenize_and_align_labels(data):\n",
    "    text = [\"\".join(t) for t in data[\"tokens\"]]\n",
    "    # tokenized_inputs = xlmr_tokenizer(text, truncation=True, max_length=512)\n",
    "    tokenized_inputs = xlmr_tokenizer(text)\n",
    "\n",
    "    #\n",
    "    # map label to the new token\n",
    "    #\n",
    "    # [example]\n",
    "    #   org token (data)            : [\"松\", \"崎\", \"は\", \"日\", \"本\", \"に\", \"い\", \"る\"]\n",
    "    #   new token (tokenized_inputs): [\"_\", \"松\", \"崎\", \"は\", \"日本\", \"に\", \"いる\"]\n",
    "    labels = []\n",
    "    for row_idx, label_old in enumerate(data[\"ner_tags\"]):\n",
    "        # label is initialized as [[], [], [], [], [], [], []]\n",
    "        label_new = [[] for t in tokenized_inputs.tokens(batch_index=row_idx)]\n",
    "        # label becomes [[1], [1], [1], [0], [5, 5], [0], [0, 0]]\n",
    "        for char_idx in range(len(data[\"tokens\"][row_idx])):\n",
    "            token_idx = tokenized_inputs.char_to_token(row_idx, char_idx)\n",
    "            if token_idx is not None:\n",
    "                label_new[token_idx].append(data[\"ner_tags\"][row_idx][char_idx])\n",
    "                if (tokenized_inputs.tokens(batch_index=row_idx)[token_idx] == \"▁\") and (data[\"ner_tags\"][row_idx][char_idx] != 0):\n",
    "                    label_new[token_idx+1].append(data[\"ner_tags\"][row_idx][char_idx])\n",
    "        # label becomes [1, 1, 1, 0, 5, 0, 0]\n",
    "        label_new = list(map(lambda i : max(i, default=0), label_new))\n",
    "        # append result\n",
    "        labels.append(label_new)\n",
    "\n",
    "    tokenized_inputs[\"labels\"] = labels\n",
    "    return tokenized_inputs"
   ]
  },
  {
   "cell_type": "code",
   "execution_count": 10,
   "id": "877b176e",
   "metadata": {},
   "outputs": [
    {
     "data": {
      "application/vnd.jupyter.widget-view+json": {
       "model_id": "5f8722d32f274332a6f15db8383646c9",
       "version_major": 2,
       "version_minor": 0
      },
      "text/plain": [
       "  0%|          | 0/38 [00:00<?, ?ba/s]"
      ]
     },
     "metadata": {},
     "output_type": "display_data"
    },
    {
     "data": {
      "application/vnd.jupyter.widget-view+json": {
       "model_id": "e419680a0a7940699a5a5c36a3e2c3a0",
       "version_major": 2,
       "version_minor": 0
      },
      "text/plain": [
       "  0%|          | 0/5 [00:00<?, ?ba/s]"
      ]
     },
     "metadata": {},
     "output_type": "display_data"
    }
   ],
   "source": [
    "tokenized_ds = ds.map(\n",
    "    tokenize_and_align_labels,\n",
    "    remove_columns=[\"tokens\", \"ner_tags\"],\n",
    "    batched=True,\n",
    "    batch_size=128)"
   ]
  },
  {
   "cell_type": "code",
   "execution_count": 11,
   "id": "f2d004ee",
   "metadata": {},
   "outputs": [
    {
     "data": {
      "text/html": [
       "<div>\n",
       "<style scoped>\n",
       "    .dataframe tbody tr th:only-of-type {\n",
       "        vertical-align: middle;\n",
       "    }\n",
       "\n",
       "    .dataframe tbody tr th {\n",
       "        vertical-align: top;\n",
       "    }\n",
       "\n",
       "    .dataframe thead th {\n",
       "        text-align: right;\n",
       "    }\n",
       "</style>\n",
       "<table border=\"1\" class=\"dataframe\">\n",
       "  <thead>\n",
       "    <tr style=\"text-align: right;\">\n",
       "      <th></th>\n",
       "      <th>0</th>\n",
       "      <th>1</th>\n",
       "      <th>2</th>\n",
       "      <th>3</th>\n",
       "      <th>4</th>\n",
       "      <th>5</th>\n",
       "      <th>6</th>\n",
       "      <th>7</th>\n",
       "      <th>8</th>\n",
       "      <th>9</th>\n",
       "      <th>...</th>\n",
       "      <th>27</th>\n",
       "      <th>28</th>\n",
       "      <th>29</th>\n",
       "      <th>30</th>\n",
       "      <th>31</th>\n",
       "      <th>32</th>\n",
       "      <th>33</th>\n",
       "      <th>34</th>\n",
       "      <th>35</th>\n",
       "      <th>36</th>\n",
       "    </tr>\n",
       "  </thead>\n",
       "  <tbody>\n",
       "    <tr>\n",
       "      <th>tokens</th>\n",
       "      <td>&lt;s&gt;</td>\n",
       "      <td>▁</td>\n",
       "      <td>名</td>\n",
       "      <td>誉</td>\n",
       "      <td>革命</td>\n",
       "      <td>による</td>\n",
       "      <td>ヴ</td>\n",
       "      <td>ォ</td>\n",
       "      <td>ーン</td>\n",
       "      <td>の影響</td>\n",
       "      <td>...</td>\n",
       "      <td>る</td>\n",
       "      <td>ぎ</td>\n",
       "      <td>ない</td>\n",
       "      <td>もの</td>\n",
       "      <td>にした</td>\n",
       "      <td>ことが</td>\n",
       "      <td>挙げ</td>\n",
       "      <td>られる</td>\n",
       "      <td>。</td>\n",
       "      <td>&lt;/s&gt;</td>\n",
       "    </tr>\n",
       "    <tr>\n",
       "      <th>ner_tags</th>\n",
       "      <td>0</td>\n",
       "      <td>8</td>\n",
       "      <td>8</td>\n",
       "      <td>8</td>\n",
       "      <td>8</td>\n",
       "      <td>0</td>\n",
       "      <td>1</td>\n",
       "      <td>1</td>\n",
       "      <td>1</td>\n",
       "      <td>0</td>\n",
       "      <td>...</td>\n",
       "      <td>0</td>\n",
       "      <td>0</td>\n",
       "      <td>0</td>\n",
       "      <td>0</td>\n",
       "      <td>0</td>\n",
       "      <td>0</td>\n",
       "      <td>0</td>\n",
       "      <td>0</td>\n",
       "      <td>0</td>\n",
       "      <td>0</td>\n",
       "    </tr>\n",
       "  </tbody>\n",
       "</table>\n",
       "<p>2 rows × 37 columns</p>\n",
       "</div>"
      ],
      "text/plain": [
       "           0  1  2  3   4    5  6  7   8    9   ... 27 28  29  30   31   32  \\\n",
       "tokens    <s>  ▁  名  誉  革命  による  ヴ  ォ  ーン  の影響  ...  る  ぎ  ない  もの  にした  ことが   \n",
       "ner_tags    0  8  8  8   8    0  1  1   1    0  ...  0  0   0   0    0    0   \n",
       "\n",
       "          33   34 35    36  \n",
       "tokens    挙げ  られる  。  </s>  \n",
       "ner_tags   0    0  0     0  \n",
       "\n",
       "[2 rows x 37 columns]"
      ]
     },
     "execution_count": 11,
     "metadata": {},
     "output_type": "execute_result"
    }
   ],
   "source": [
    "pd.DataFrame(\n",
    "    [xlmr_tokenizer.convert_ids_to_tokens(tokenized_ds[\"train\"][0][\"input_ids\"]), tokenized_ds[\"train\"][0][\"labels\"]],\n",
    "    index=[\"tokens\", \"ner_tags\"])"
   ]
  },
  {
   "cell_type": "code",
   "execution_count": 12,
   "id": "bf2a043d",
   "metadata": {},
   "outputs": [],
   "source": [
    "#shuffled_tokenized_ds = tokenized_ds.shuffle()"
   ]
  },
  {
   "cell_type": "markdown",
   "id": "b09b362f",
   "metadata": {},
   "source": [
    "When data is so large, please save this dataset in disk and load dataset directly from file. (HuggingFace dataset then uses memory-mapped file.)<br>\n",
    "In this example, we use pre-processed dataset in memory."
   ]
  },
  {
   "cell_type": "markdown",
   "id": "692dd056",
   "metadata": {},
   "source": [
    "## Fine-tune"
   ]
  },
  {
   "cell_type": "markdown",
   "id": "9f4bfded",
   "metadata": {},
   "source": [
    "We prepare training arguments for fine-tune.<br>\n",
    "In this example, we use HuggingFace transformer trainer class, with which you can run training without manually writing training loop."
   ]
  },
  {
   "cell_type": "code",
   "execution_count": 12,
   "id": "7cf939e4",
   "metadata": {},
   "outputs": [
    {
     "name": "stdout",
     "output_type": "stream",
     "text": [
      "env: TOKENIZERS_PARALLELISM=false\n"
     ]
    }
   ],
   "source": [
    "%env TOKENIZERS_PARALLELISM=false"
   ]
  },
  {
   "cell_type": "markdown",
   "id": "f02319c1",
   "metadata": {},
   "source": [
    "First we prepare trainer's arguments.<br>\n",
    "The checkpoint file is saved in the folder named ```xlm-roberta-ner-ja```.\n",
    "\n",
    "> Note : This will require a lot of disk space, because the model is large. Please check whether you have enough space."
   ]
  },
  {
   "cell_type": "code",
   "execution_count": 13,
   "id": "78f28731",
   "metadata": {},
   "outputs": [],
   "source": [
    "from transformers import TrainingArguments\n",
    "\n",
    "training_args = TrainingArguments(\n",
    "    output_dir = \"xlm-roberta-ner-ja\",\n",
    "    log_level = \"error\",\n",
    "    num_train_epochs = 1,\n",
    "    per_device_train_batch_size = 12,\n",
    "    per_device_eval_batch_size = 12,\n",
    "    evaluation_strategy = \"epoch\",\n",
    "    fp16 = True,\n",
    "    logging_steps = len(tokenized_ds[\"train\"]),\n",
    "    push_to_hub = False\n",
    ")"
   ]
  },
  {
   "cell_type": "markdown",
   "id": "622b4de5",
   "metadata": {},
   "source": [
    "We also prepare metrics function for evaluation in the training.\n",
    "\n",
    "In this example, we will use ```DataCollatorForTokenClassification``` for data collator (pre-processing data), and the padded label id will become -100 by this data collator. (See [document](https://huggingface.co/docs/transformers/main_classes/data_collator) for data collator.)<br>\n",
    "Therefore -100 is ignored in evaluation as follows."
   ]
  },
  {
   "cell_type": "code",
   "execution_count": 14,
   "id": "f5dd0da9",
   "metadata": {},
   "outputs": [],
   "source": [
    "import numpy as np\n",
    "# see https://huggingface.co/spaces/evaluate-metric/seqeval\n",
    "from seqeval.metrics import f1_score\n",
    "\n",
    "def metrics_func(eval_arg):\n",
    "    preds = np.argmax(eval_arg.predictions, axis=2)\n",
    "    batch_size, seq_len = preds.shape\n",
    "    y_true, y_pred = [], []\n",
    "    for b in range(batch_size):\n",
    "        true_label, pred_label = [], []\n",
    "        for s in range(seq_len):\n",
    "            if eval_arg.label_ids[b, s] != -100:  # -100 must be ignored\n",
    "                true_label.append(index2tag[eval_arg.label_ids[b][s]])\n",
    "                pred_label.append(index2tag[preds[b][s]])\n",
    "        y_true.append(true_label)\n",
    "        y_pred.append(pred_label)\n",
    "    return {\"f1\": f1_score(y_true, y_pred)}"
   ]
  },
  {
   "cell_type": "markdown",
   "id": "30cb5336",
   "metadata": {},
   "source": [
    "We also prepare data collator, which will pre-process data.\n",
    "\n",
    "As I have mentioned above, the classification data collator class (```DataCollatorForTokenClassification```) will also apply padding to the longest sequence in the batch and the padded token will be filled with label id -100 by default.<br>\n",
    "This token will then be ignored in loss computation and evaluation."
   ]
  },
  {
   "cell_type": "code",
   "execution_count": 15,
   "id": "bc213f22",
   "metadata": {},
   "outputs": [],
   "source": [
    "from transformers import DataCollatorForTokenClassification\n",
    "\n",
    "data_collator = DataCollatorForTokenClassification(\n",
    "    xlmr_tokenizer,\n",
    "    return_tensors=\"pt\")"
   ]
  },
  {
   "cell_type": "markdown",
   "id": "3978f071",
   "metadata": {},
   "source": [
    "Build trainer. (Put it all together.)\n",
    "\n",
    "Here we use ```RobertaForTokenClassification``` model. This model consists of pre-trained ```RobertaModel``` with classification head (subsequent dropout and linear layer).<br>\n",
    "See [here](https://github.com/huggingface/transformers/blob/main/src/transformers/models/roberta/modeling_roberta.py) for the source code."
   ]
  },
  {
   "cell_type": "code",
   "execution_count": 16,
   "id": "bca8a572",
   "metadata": {},
   "outputs": [
    {
     "data": {
      "application/vnd.jupyter.widget-view+json": {
       "model_id": "5f494ef34e284e01b9bd853232a15ed4",
       "version_major": 2,
       "version_minor": 0
      },
      "text/plain": [
       "Downloading:   0%|          | 0.00/1.12G [00:00<?, ?B/s]"
      ]
     },
     "metadata": {},
     "output_type": "display_data"
    },
    {
     "name": "stderr",
     "output_type": "stream",
     "text": [
      "Some weights of the model checkpoint at xlm-roberta-base were not used when initializing RobertaForTokenClassification: ['lm_head.layer_norm.bias', 'lm_head.layer_norm.weight', 'lm_head.decoder.weight', 'lm_head.dense.bias', 'lm_head.dense.weight', 'lm_head.bias']\n",
      "- This IS expected if you are initializing RobertaForTokenClassification from the checkpoint of a model trained on another task or with another architecture (e.g. initializing a BertForSequenceClassification model from a BertForPreTraining model).\n",
      "- This IS NOT expected if you are initializing RobertaForTokenClassification from the checkpoint of a model that you expect to be exactly identical (initializing a BertForSequenceClassification model from a BertForSequenceClassification model).\n",
      "Some weights of RobertaForTokenClassification were not initialized from the model checkpoint at xlm-roberta-base and are newly initialized: ['classifier.weight', 'classifier.bias']\n",
      "You should probably TRAIN this model on a down-stream task to be able to use it for predictions and inference.\n"
     ]
    }
   ],
   "source": [
    "from transformers import AutoConfig, Trainer\n",
    "from transformers.models.roberta.modeling_roberta import RobertaForTokenClassification\n",
    "\n",
    "xlmr_config = AutoConfig.from_pretrained(\n",
    "    \"xlm-roberta-base\",\n",
    "    num_labels=tags.num_classes,\n",
    "    id2label=index2tag,\n",
    "    label2id=tag2index\n",
    ")\n",
    "model = (RobertaForTokenClassification\n",
    "         .from_pretrained(\"xlm-roberta-base\", config=xlmr_config)\n",
    "         .to(device))\n",
    "\n",
    "trainer = Trainer(\n",
    "    model = model,\n",
    "    args = training_args,\n",
    "    data_collator = data_collator,\n",
    "    compute_metrics = metrics_func,\n",
    "    train_dataset = tokenized_ds[\"train\"],\n",
    "    eval_dataset = tokenized_ds[\"test\"],\n",
    "    tokenizer = xlmr_tokenizer\n",
    ")"
   ]
  },
  {
   "cell_type": "markdown",
   "id": "caac6687",
   "metadata": {},
   "source": [
    "[Optional] You can also test the model which is not trained for NER. "
   ]
  },
  {
   "cell_type": "code",
   "execution_count": null,
   "id": "bf4edac5",
   "metadata": {},
   "outputs": [],
   "source": [
    "# model(xlmr_tokenizer.encode(\"Jack Sparrow loves New York !\", return_tensors=\"pt\").to(device)).logits"
   ]
  },
  {
   "cell_type": "markdown",
   "id": "ce8b530f",
   "metadata": {},
   "source": [
    "Now let's run training."
   ]
  },
  {
   "cell_type": "code",
   "execution_count": 17,
   "id": "a66059ec",
   "metadata": {},
   "outputs": [
    {
     "name": "stderr",
     "output_type": "stream",
     "text": [
      "/home/tsmatsuz/.local/lib/python3.8/site-packages/transformers/optimization.py:306: FutureWarning: This implementation of AdamW is deprecated and will be removed in a future version. Use the PyTorch implementation torch.optim.AdamW instead, or set `no_deprecation_warning=True` to disable this warning\n",
      "  warnings.warn(\n"
     ]
    },
    {
     "data": {
      "text/html": [
       "\n",
       "    <div>\n",
       "      \n",
       "      <progress value='401' max='401' style='width:300px; height:20px; vertical-align: middle;'></progress>\n",
       "      [401/401 06:12, Epoch 1/1]\n",
       "    </div>\n",
       "    <table border=\"1\" class=\"dataframe\">\n",
       "  <thead>\n",
       " <tr style=\"text-align: left;\">\n",
       "      <th>Epoch</th>\n",
       "      <th>Training Loss</th>\n",
       "      <th>Validation Loss</th>\n",
       "      <th>F1</th>\n",
       "    </tr>\n",
       "  </thead>\n",
       "  <tbody>\n",
       "    <tr>\n",
       "      <td>1</td>\n",
       "      <td>No log</td>\n",
       "      <td>0.140325</td>\n",
       "      <td>0.893241</td>\n",
       "    </tr>\n",
       "  </tbody>\n",
       "</table><p>"
      ],
      "text/plain": [
       "<IPython.core.display.HTML object>"
      ]
     },
     "metadata": {},
     "output_type": "display_data"
    },
    {
     "name": "stderr",
     "output_type": "stream",
     "text": [
      "/home/tsmatsuz/.local/lib/python3.8/site-packages/seqeval/metrics/sequence_labeling.py:171: UserWarning: ORG-P seems not to be NE tag.\n",
      "  warnings.warn('{} seems not to be NE tag.'.format(chunk))\n",
      "/home/tsmatsuz/.local/lib/python3.8/site-packages/seqeval/metrics/sequence_labeling.py:171: UserWarning: LOC seems not to be NE tag.\n",
      "  warnings.warn('{} seems not to be NE tag.'.format(chunk))\n",
      "/home/tsmatsuz/.local/lib/python3.8/site-packages/seqeval/metrics/sequence_labeling.py:171: UserWarning: PER seems not to be NE tag.\n",
      "  warnings.warn('{} seems not to be NE tag.'.format(chunk))\n",
      "/home/tsmatsuz/.local/lib/python3.8/site-packages/seqeval/metrics/sequence_labeling.py:171: UserWarning: ORG seems not to be NE tag.\n",
      "  warnings.warn('{} seems not to be NE tag.'.format(chunk))\n",
      "/home/tsmatsuz/.local/lib/python3.8/site-packages/seqeval/metrics/sequence_labeling.py:171: UserWarning: INS seems not to be NE tag.\n",
      "  warnings.warn('{} seems not to be NE tag.'.format(chunk))\n",
      "/home/tsmatsuz/.local/lib/python3.8/site-packages/seqeval/metrics/sequence_labeling.py:171: UserWarning: PRD seems not to be NE tag.\n",
      "  warnings.warn('{} seems not to be NE tag.'.format(chunk))\n",
      "/home/tsmatsuz/.local/lib/python3.8/site-packages/seqeval/metrics/sequence_labeling.py:171: UserWarning: EVT seems not to be NE tag.\n",
      "  warnings.warn('{} seems not to be NE tag.'.format(chunk))\n",
      "/home/tsmatsuz/.local/lib/python3.8/site-packages/seqeval/metrics/sequence_labeling.py:171: UserWarning: ORG-O seems not to be NE tag.\n",
      "  warnings.warn('{} seems not to be NE tag.'.format(chunk))\n"
     ]
    },
    {
     "data": {
      "text/plain": [
       "TrainOutput(global_step=401, training_loss=0.39201328344178615, metrics={'train_runtime': 373.4648, 'train_samples_per_second': 12.874, 'train_steps_per_second': 1.074, 'total_flos': 194856014896488.0, 'train_loss': 0.39201328344178615, 'epoch': 1.0})"
      ]
     },
     "execution_count": 17,
     "metadata": {},
     "output_type": "execute_result"
    }
   ],
   "source": [
    "trainer.train()"
   ]
  },
  {
   "cell_type": "markdown",
   "id": "44578fb6",
   "metadata": {},
   "source": [
    "In order to use it later, you can save the trained model."
   ]
  },
  {
   "cell_type": "code",
   "execution_count": 18,
   "id": "0710012a",
   "metadata": {},
   "outputs": [],
   "source": [
    "import os\n",
    "\n",
    "os.makedirs(\"./trained_ner_classifier_jp\", exist_ok=True)\n",
    "#trainer.save_model(\"./trained_ner_classifier_jp\")\n",
    "if hasattr(trainer.model, \"module\"):\n",
    "    trainer.model.module.save_pretrained(\"./trained_ner_classifier_jp\")\n",
    "else:\n",
    "    trainer.model.save_pretrained(\"./trained_ner_classifier_jp\")"
   ]
  },
  {
   "cell_type": "markdown",
   "id": "bf2efe66",
   "metadata": {},
   "source": [
    "Load pre-trained model from local."
   ]
  },
  {
   "cell_type": "code",
   "execution_count": 19,
   "id": "2be7c430",
   "metadata": {},
   "outputs": [],
   "source": [
    "import torch\n",
    "from transformers import AutoConfig\n",
    "\n",
    "xlmr_config = AutoConfig.from_pretrained(\n",
    "    \"xlm-roberta-base\",\n",
    "    num_labels=tags.num_classes,\n",
    "    id2label=index2tag,\n",
    "    label2id=tag2index\n",
    ")\n",
    "model = (RobertaForTokenClassification\n",
    "         .from_pretrained(\"./trained_ner_classifier_jp\", config=xlmr_config)\n",
    "         .to(device))"
   ]
  },
  {
   "cell_type": "markdown",
   "id": "5ca6f566",
   "metadata": {},
   "source": [
    "## Predict\n",
    "\n",
    "Now let's see how it works with pre-trained model.\n",
    "\n",
    "As you can see below, the first word of \"中国\" (=\"China\") is recognized as a location name, but the second word of \"中国\" (China) in \"中国共産党\" (Communist Party of China) is recognized as an organization name. Also, \"共産党\" (Communist Party) is recognized as an organization, but \"一党\" (one party) is not recognized as an organization.\n",
    "\n",
    "> Note : You can also use ```predict()``` method in Trainer class."
   ]
  },
  {
   "cell_type": "code",
   "execution_count": 20,
   "id": "7ee53a4f",
   "metadata": {},
   "outputs": [],
   "source": [
    "from datasets import Dataset\n",
    "\n",
    "sample_encoding = xlmr_tokenizer([\n",
    "    \"鈴木は4月の陽気の良い日に、鈴をつけて熊本県の阿蘇山に登った\",\n",
    "    \"中国では、中国共産党による一党統治が続く\",\n",
    "], truncation=True, max_length=512)\n",
    "sample_dataset = Dataset.from_dict(sample_encoding)\n",
    "sample_dataset = sample_dataset.with_format(\"torch\")"
   ]
  },
  {
   "cell_type": "code",
   "execution_count": 21,
   "id": "6bad1a4d",
   "metadata": {},
   "outputs": [],
   "source": [
    "import torch\n",
    "from torch.utils.data import DataLoader\n",
    "\n",
    "sample_dataloader = DataLoader(sample_dataset, batch_size=1)\n",
    "tokens = []\n",
    "labels = []\n",
    "for batch in sample_dataloader:\n",
    "    # predict\n",
    "    with torch.no_grad():\n",
    "        output = model(batch[\"input_ids\"].to(device), batch[\"attention_mask\"].to(device))\n",
    "    predicted_label_id = torch.argmax(output.logits, axis=-1).cpu().numpy()\n",
    "    # create output\n",
    "    tokens.append(xlmr_tokenizer.convert_ids_to_tokens(batch[\"input_ids\"][0]))\n",
    "    labels.append([index2tag[i] for i in predicted_label_id[0]])"
   ]
  },
  {
   "cell_type": "code",
   "execution_count": 22,
   "id": "b08e104b",
   "metadata": {},
   "outputs": [
    {
     "data": {
      "text/html": [
       "<div>\n",
       "<style scoped>\n",
       "    .dataframe tbody tr th:only-of-type {\n",
       "        vertical-align: middle;\n",
       "    }\n",
       "\n",
       "    .dataframe tbody tr th {\n",
       "        vertical-align: top;\n",
       "    }\n",
       "\n",
       "    .dataframe thead th {\n",
       "        text-align: right;\n",
       "    }\n",
       "</style>\n",
       "<table border=\"1\" class=\"dataframe\">\n",
       "  <thead>\n",
       "    <tr style=\"text-align: right;\">\n",
       "      <th></th>\n",
       "      <th>0</th>\n",
       "      <th>1</th>\n",
       "      <th>2</th>\n",
       "      <th>3</th>\n",
       "      <th>4</th>\n",
       "      <th>5</th>\n",
       "      <th>6</th>\n",
       "      <th>7</th>\n",
       "      <th>8</th>\n",
       "      <th>9</th>\n",
       "      <th>...</th>\n",
       "      <th>14</th>\n",
       "      <th>15</th>\n",
       "      <th>16</th>\n",
       "      <th>17</th>\n",
       "      <th>18</th>\n",
       "      <th>19</th>\n",
       "      <th>20</th>\n",
       "      <th>21</th>\n",
       "      <th>22</th>\n",
       "      <th>23</th>\n",
       "    </tr>\n",
       "  </thead>\n",
       "  <tbody>\n",
       "    <tr>\n",
       "      <th>Tokens</th>\n",
       "      <td>&lt;s&gt;</td>\n",
       "      <td>▁</td>\n",
       "      <td>鈴</td>\n",
       "      <td>木</td>\n",
       "      <td>は</td>\n",
       "      <td>4</td>\n",
       "      <td>月の</td>\n",
       "      <td>陽</td>\n",
       "      <td>気</td>\n",
       "      <td>の良い</td>\n",
       "      <td>...</td>\n",
       "      <td>熊本</td>\n",
       "      <td>県</td>\n",
       "      <td>の</td>\n",
       "      <td>阿</td>\n",
       "      <td>蘇</td>\n",
       "      <td>山</td>\n",
       "      <td>に</td>\n",
       "      <td>登</td>\n",
       "      <td>った</td>\n",
       "      <td>&lt;/s&gt;</td>\n",
       "    </tr>\n",
       "    <tr>\n",
       "      <th>Tags</th>\n",
       "      <td>O</td>\n",
       "      <td>PER</td>\n",
       "      <td>PER</td>\n",
       "      <td>PER</td>\n",
       "      <td>O</td>\n",
       "      <td>O</td>\n",
       "      <td>O</td>\n",
       "      <td>O</td>\n",
       "      <td>O</td>\n",
       "      <td>O</td>\n",
       "      <td>...</td>\n",
       "      <td>LOC</td>\n",
       "      <td>LOC</td>\n",
       "      <td>O</td>\n",
       "      <td>LOC</td>\n",
       "      <td>LOC</td>\n",
       "      <td>LOC</td>\n",
       "      <td>O</td>\n",
       "      <td>O</td>\n",
       "      <td>O</td>\n",
       "      <td>O</td>\n",
       "    </tr>\n",
       "  </tbody>\n",
       "</table>\n",
       "<p>2 rows × 24 columns</p>\n",
       "</div>"
      ],
      "text/plain": [
       "         0    1    2    3  4  5   6  7  8    9   ...   14   15 16   17   18  \\\n",
       "Tokens  <s>    ▁    鈴    木  は  4  月の  陽  気  の良い  ...   熊本    県  の    阿    蘇   \n",
       "Tags      O  PER  PER  PER  O  O   O  O  O    O  ...  LOC  LOC  O  LOC  LOC   \n",
       "\n",
       "         19 20 21  22    23  \n",
       "Tokens    山  に  登  った  </s>  \n",
       "Tags    LOC  O  O   O     O  \n",
       "\n",
       "[2 rows x 24 columns]"
      ]
     },
     "execution_count": 22,
     "metadata": {},
     "output_type": "execute_result"
    }
   ],
   "source": [
    "import pandas as pd\n",
    "\n",
    "pd.DataFrame([tokens[0], labels[0]], index=[\"Tokens\", \"Tags\"])"
   ]
  },
  {
   "cell_type": "code",
   "execution_count": 23,
   "id": "00e24d77",
   "metadata": {},
   "outputs": [
    {
     "data": {
      "text/html": [
       "<div>\n",
       "<style scoped>\n",
       "    .dataframe tbody tr th:only-of-type {\n",
       "        vertical-align: middle;\n",
       "    }\n",
       "\n",
       "    .dataframe tbody tr th {\n",
       "        vertical-align: top;\n",
       "    }\n",
       "\n",
       "    .dataframe thead th {\n",
       "        text-align: right;\n",
       "    }\n",
       "</style>\n",
       "<table border=\"1\" class=\"dataframe\">\n",
       "  <thead>\n",
       "    <tr style=\"text-align: right;\">\n",
       "      <th></th>\n",
       "      <th>0</th>\n",
       "      <th>1</th>\n",
       "      <th>2</th>\n",
       "      <th>3</th>\n",
       "      <th>4</th>\n",
       "      <th>5</th>\n",
       "      <th>6</th>\n",
       "      <th>7</th>\n",
       "      <th>8</th>\n",
       "      <th>9</th>\n",
       "      <th>10</th>\n",
       "      <th>11</th>\n",
       "      <th>12</th>\n",
       "      <th>13</th>\n",
       "      <th>14</th>\n",
       "    </tr>\n",
       "  </thead>\n",
       "  <tbody>\n",
       "    <tr>\n",
       "      <th>Tokens</th>\n",
       "      <td>&lt;s&gt;</td>\n",
       "      <td>▁中国</td>\n",
       "      <td>では</td>\n",
       "      <td>、</td>\n",
       "      <td>中国</td>\n",
       "      <td>共</td>\n",
       "      <td>産</td>\n",
       "      <td>党</td>\n",
       "      <td>による</td>\n",
       "      <td>一</td>\n",
       "      <td>党</td>\n",
       "      <td>統治</td>\n",
       "      <td>が</td>\n",
       "      <td>続く</td>\n",
       "      <td>&lt;/s&gt;</td>\n",
       "    </tr>\n",
       "    <tr>\n",
       "      <th>Tags</th>\n",
       "      <td>O</td>\n",
       "      <td>LOC</td>\n",
       "      <td>O</td>\n",
       "      <td>O</td>\n",
       "      <td>ORG-P</td>\n",
       "      <td>ORG-P</td>\n",
       "      <td>ORG-P</td>\n",
       "      <td>ORG-P</td>\n",
       "      <td>O</td>\n",
       "      <td>O</td>\n",
       "      <td>O</td>\n",
       "      <td>O</td>\n",
       "      <td>O</td>\n",
       "      <td>O</td>\n",
       "      <td>O</td>\n",
       "    </tr>\n",
       "  </tbody>\n",
       "</table>\n",
       "</div>"
      ],
      "text/plain": [
       "         0    1   2  3      4      5      6      7    8  9  10  11 12  13  \\\n",
       "Tokens  <s>  ▁中国  では  、     中国      共      産      党  による  一  党  統治  が  続く   \n",
       "Tags      O  LOC   O  O  ORG-P  ORG-P  ORG-P  ORG-P    O  O  O   O  O   O   \n",
       "\n",
       "          14  \n",
       "Tokens  </s>  \n",
       "Tags       O  "
      ]
     },
     "execution_count": 23,
     "metadata": {},
     "output_type": "execute_result"
    }
   ],
   "source": [
    "pd.DataFrame([tokens[1], labels[1]], index=[\"Tokens\", \"Tags\"])"
   ]
  },
  {
   "cell_type": "markdown",
   "id": "7744cfc3",
   "metadata": {},
   "source": [
    "## Analyze errors\n",
    "\n",
    "Let's run inference with test dataset, and analyze the results.<br>\n",
    "As you can see below, a lot of \"```PER```\" (person name) has incorrectly classified as \"```ORG-O```\" (other organization name), since it's difficult to classify these names in Japanese."
   ]
  },
  {
   "cell_type": "code",
   "execution_count": 24,
   "id": "e17a28b2",
   "metadata": {},
   "outputs": [
    {
     "data": {
      "application/vnd.jupyter.widget-view+json": {
       "model_id": "3be70509eaee4efd8bbae2fea16bc62d",
       "version_major": 2,
       "version_minor": 0
      },
      "text/plain": [
       "  0%|          | 0/17 [00:00<?, ?ba/s]"
      ]
     },
     "metadata": {},
     "output_type": "display_data"
    }
   ],
   "source": [
    "from torch.nn.functional import cross_entropy\n",
    "\n",
    "def process_test(batch):\n",
    "    # process data collator\n",
    "    features = [dict(zip(batch, t)) for t in zip(*batch.values())]\n",
    "    new_batch = data_collator(features)\n",
    "    # run inference (prediction)\n",
    "    with torch.no_grad():\n",
    "        input_ids = new_batch[\"input_ids\"].to(device)\n",
    "        attention_mask = new_batch[\"attention_mask\"].to(device)\n",
    "        output = model(input_ids, attention_mask)\n",
    "        predicted_label_id = torch.argmax(output.logits, axis=-1).cpu().numpy()\n",
    "    # compute loss (but we won't use this result)\n",
    "    true_label_id = new_batch[\"labels\"].to(device)\n",
    "    loss = cross_entropy(\n",
    "        output.logits.view(-1, tags.num_classes),\n",
    "        true_label_id.view(-1),\n",
    "        reduction=\"none\"\n",
    "    )\n",
    "    loss = loss.view(len(input_ids), -1).cpu().numpy()\n",
    "    # create output\n",
    "    return {\n",
    "        \"loss\": loss,\n",
    "        \"predicted_labels\": predicted_label_id\n",
    "    }\n",
    "\n",
    "test_dataset = tokenized_ds[\"test\"]\n",
    "test_output = test_dataset.map(process_test, batched=True, batch_size=32)\n",
    "test_output_df = test_output.to_pandas()"
   ]
  },
  {
   "cell_type": "code",
   "execution_count": 25,
   "id": "219f083c",
   "metadata": {},
   "outputs": [],
   "source": [
    "test_output_df[\"label_tags\"] = test_output_df[\"labels\"].apply(\n",
    "    lambda row: [index2tag[i] for i in row])\n",
    "test_output_df[\"predicted_label_tags\"] = test_output_df[[\"predicted_labels\", \"attention_mask\"]].apply(\n",
    "    lambda row: [index2tag[i] for i in row.predicted_labels][:len(row.attention_mask)], axis = 1)"
   ]
  },
  {
   "cell_type": "code",
   "execution_count": 26,
   "id": "cc71a72e",
   "metadata": {},
   "outputs": [
    {
     "data": {
      "text/html": [
       "<div>\n",
       "<style scoped>\n",
       "    .dataframe tbody tr th:only-of-type {\n",
       "        vertical-align: middle;\n",
       "    }\n",
       "\n",
       "    .dataframe tbody tr th {\n",
       "        vertical-align: top;\n",
       "    }\n",
       "\n",
       "    .dataframe thead th {\n",
       "        text-align: right;\n",
       "    }\n",
       "</style>\n",
       "<table border=\"1\" class=\"dataframe\">\n",
       "  <thead>\n",
       "    <tr style=\"text-align: right;\">\n",
       "      <th></th>\n",
       "      <th>input_ids</th>\n",
       "      <th>attention_mask</th>\n",
       "      <th>labels</th>\n",
       "      <th>loss</th>\n",
       "      <th>predicted_labels</th>\n",
       "      <th>label_tags</th>\n",
       "      <th>predicted_label_tags</th>\n",
       "    </tr>\n",
       "  </thead>\n",
       "  <tbody>\n",
       "    <tr>\n",
       "      <th>0</th>\n",
       "      <td>[0, 6, 185755, 50456, 919, 154, 2954, 13080, 1...</td>\n",
       "      <td>[1, 1, 1, 1, 1, 1, 1, 1, 1, 1, 1, 1, 1, 1, 1, ...</td>\n",
       "      <td>[0, 0, 0, 3, 3, 0, 0, 0, 0, 0, 0, 0, 0, 0, 0, ...</td>\n",
       "      <td>[0.0024523442, 0.0016349294, 0.0010371788, 0.3...</td>\n",
       "      <td>[0, 0, 0, 3, 3, 0, 0, 0, 0, 0, 0, 3, 3, 3, 3, ...</td>\n",
       "      <td>[O, O, O, ORG-P, ORG-P, O, O, O, O, O, O, O, O...</td>\n",
       "      <td>[O, O, O, ORG-P, ORG-P, O, O, O, O, O, O, ORG-...</td>\n",
       "    </tr>\n",
       "    <tr>\n",
       "      <th>1</th>\n",
       "      <td>[0, 6, 55422, 31560, 14577, 14323, 6242, 4441,...</td>\n",
       "      <td>[1, 1, 1, 1, 1, 1, 1, 1, 1, 1, 1, 1, 1, 1, 1, ...</td>\n",
       "      <td>[0, 5, 5, 5, 5, 5, 5, 0, 1, 1, 0, 0, 0, 0, 0, ...</td>\n",
       "      <td>[0.0019601434, 5.0906296, 5.201472, 5.3190703,...</td>\n",
       "      <td>[0, 1, 1, 1, 1, 1, 1, 1, 1, 1, 0, 0, 0, 0, 0, ...</td>\n",
       "      <td>[O, LOC, LOC, LOC, LOC, LOC, LOC, O, PER, PER,...</td>\n",
       "      <td>[O, PER, PER, PER, PER, PER, PER, PER, PER, PE...</td>\n",
       "    </tr>\n",
       "    <tr>\n",
       "      <th>2</th>\n",
       "      <td>[0, 6, 9501, 10045, 217417, 6808, 154, 55422, ...</td>\n",
       "      <td>[1, 1, 1, 1, 1, 1, 1, 1, 1, 1, 1, 1, 1, 1, 1, ...</td>\n",
       "      <td>[0, 2, 2, 2, 2, 2, 0, 0, 0, 0, 0, 0, 0, 0, 0, ...</td>\n",
       "      <td>[0.0032714678, 0.019455321, 0.016702574, 0.016...</td>\n",
       "      <td>[0, 2, 2, 2, 2, 2, 0, 0, 0, 0, 0, 0, 0, 0, 0, ...</td>\n",
       "      <td>[O, ORG, ORG, ORG, ORG, ORG, O, O, O, O, O, O,...</td>\n",
       "      <td>[O, ORG, ORG, ORG, ORG, ORG, O, O, O, O, O, O,...</td>\n",
       "    </tr>\n",
       "    <tr>\n",
       "      <th>3</th>\n",
       "      <td>[0, 15974, 37, 3230, 19705, 281, 192783, 1925,...</td>\n",
       "      <td>[1, 1, 1, 1, 1, 1, 1, 1, 1, 1, 1, 1, 1, 1, 1, ...</td>\n",
       "      <td>[0, 0, 0, 0, 0, 0, 0, 0, 0, 0, 0, 0, 0, 0, 0, ...</td>\n",
       "      <td>[0.0015376898, 0.0008931938, 0.0006227938, 0.0...</td>\n",
       "      <td>[0, 0, 0, 0, 0, 0, 0, 0, 0, 0, 0, 0, 0, 0, 0, ...</td>\n",
       "      <td>[O, O, O, O, O, O, O, O, O, O, O, O, O, O, O, ...</td>\n",
       "      <td>[O, O, O, O, O, O, O, O, O, O, O, O, O, O, O, ...</td>\n",
       "    </tr>\n",
       "    <tr>\n",
       "      <th>4</th>\n",
       "      <td>[0, 6, 27932, 10045, 37023, 17462, 31814, 4138...</td>\n",
       "      <td>[1, 1, 1, 1, 1, 1, 1, 1, 1, 1, 1, 1, 1, 1, 1, ...</td>\n",
       "      <td>[0, 0, 0, 6, 6, 6, 6, 6, 6, 0, 1, 1, 1, 1, 1, ...</td>\n",
       "      <td>[0.0017930873, 0.0027236769, 0.0012497242, 0.3...</td>\n",
       "      <td>[0, 0, 0, 6, 6, 6, 6, 6, 6, 0, 3, 1, 1, 1, 1, ...</td>\n",
       "      <td>[O, O, O, INS, INS, INS, INS, INS, INS, O, PER...</td>\n",
       "      <td>[O, O, O, INS, INS, INS, INS, INS, INS, O, ORG...</td>\n",
       "    </tr>\n",
       "    <tr>\n",
       "      <th>...</th>\n",
       "      <td>...</td>\n",
       "      <td>...</td>\n",
       "      <td>...</td>\n",
       "      <td>...</td>\n",
       "      <td>...</td>\n",
       "      <td>...</td>\n",
       "      <td>...</td>\n",
       "    </tr>\n",
       "    <tr>\n",
       "      <th>530</th>\n",
       "      <td>[0, 3691, 3752, 5139, 22503, 8779, 140430, 209...</td>\n",
       "      <td>[1, 1, 1, 1, 1, 1, 1, 1, 1, 1, 1, 1, 1, 1, 1, ...</td>\n",
       "      <td>[0, 0, 7, 7, 7, 7, 7, 7, 7, 7, 7, 7, 0, 0, 0, ...</td>\n",
       "      <td>[0.0027869216, 0.0069671785, 0.027065467, 0.02...</td>\n",
       "      <td>[0, 0, 7, 7, 7, 7, 7, 7, 7, 7, 7, 7, 0, 0, 0, ...</td>\n",
       "      <td>[O, O, PRD, PRD, PRD, PRD, PRD, PRD, PRD, PRD,...</td>\n",
       "      <td>[O, O, PRD, PRD, PRD, PRD, PRD, PRD, PRD, PRD,...</td>\n",
       "    </tr>\n",
       "    <tr>\n",
       "      <th>531</th>\n",
       "      <td>[0, 6, 65322, 37, 2150, 20119, 5291, 2283, 302...</td>\n",
       "      <td>[1, 1, 1, 1, 1, 1, 1, 1, 1, 1, 1, 1, 1, 1, 1, ...</td>\n",
       "      <td>[0, 0, 0, 0, 3, 3, 3, 3, 3, 3, 0, 0, 0, 0, 0, ...</td>\n",
       "      <td>[0.001760482, 0.0023461455, 0.001756436, 0.002...</td>\n",
       "      <td>[0, 0, 0, 0, 3, 3, 3, 3, 3, 3, 0, 0, 0, 0, 0, ...</td>\n",
       "      <td>[O, O, O, O, ORG-P, ORG-P, ORG-P, ORG-P, ORG-P...</td>\n",
       "      <td>[O, O, O, O, ORG-P, ORG-P, ORG-P, ORG-P, ORG-P...</td>\n",
       "    </tr>\n",
       "    <tr>\n",
       "      <th>532</th>\n",
       "      <td>[0, 6, 116673, 154, 155313, 575, 37, 46900, 38...</td>\n",
       "      <td>[1, 1, 1, 1, 1, 1, 1, 1, 1, 1, 1, 1, 1, 1, 1]</td>\n",
       "      <td>[0, 0, 0, 0, 0, 0, 0, 0, 0, 0, 0, 0, 0, 0, 0]</td>\n",
       "      <td>[0.0021935469, 0.004627472, 0.0031695152, 0.00...</td>\n",
       "      <td>[0, 0, 0, 0, 0, 0, 0, 0, 0, 0, 0, 0, 0, 0, 0, ...</td>\n",
       "      <td>[O, O, O, O, O, O, O, O, O, O, O, O, O, O, O]</td>\n",
       "      <td>[O, O, O, O, O, O, O, O, O, O, O, O, O, O, O]</td>\n",
       "    </tr>\n",
       "    <tr>\n",
       "      <th>533</th>\n",
       "      <td>[0, 6, 40247, 1147, 22899, 47051, 37, 41215, 9...</td>\n",
       "      <td>[1, 1, 1, 1, 1, 1, 1, 1, 1, 1, 1, 1, 1, 1, 1, ...</td>\n",
       "      <td>[0, 0, 0, 0, 0, 0, 0, 0, 0, 0, 0, 0, 0, 0, 0, ...</td>\n",
       "      <td>[0.002543074, 0.045256536, 0.046741482, 0.0569...</td>\n",
       "      <td>[0, 0, 0, 0, 0, 0, 0, 0, 0, 0, 0, 0, 0, 0, 0, ...</td>\n",
       "      <td>[O, O, O, O, O, O, O, O, O, O, O, O, O, O, O, ...</td>\n",
       "      <td>[O, O, O, O, O, O, O, O, O, O, O, O, O, O, O, ...</td>\n",
       "    </tr>\n",
       "    <tr>\n",
       "      <th>534</th>\n",
       "      <td>[0, 6, 66361, 228985, 6808, 154, 28242, 156018...</td>\n",
       "      <td>[1, 1, 1, 1, 1, 1, 1, 1, 1, 1, 1, 1, 1, 1]</td>\n",
       "      <td>[0, 0, 0, 2, 2, 0, 7, 0, 0, 0, 0, 0, 0, 0]</td>\n",
       "      <td>[0.0028945, 0.0022827538, 0.0014405599, 0.0591...</td>\n",
       "      <td>[0, 0, 0, 2, 2, 0, 0, 0, 0, 0, 0, 0, 0, 0, 0, ...</td>\n",
       "      <td>[O, O, O, ORG, ORG, O, PRD, O, O, O, O, O, O, O]</td>\n",
       "      <td>[O, O, O, ORG, ORG, O, O, O, O, O, O, O, O, O]</td>\n",
       "    </tr>\n",
       "  </tbody>\n",
       "</table>\n",
       "<p>535 rows × 7 columns</p>\n",
       "</div>"
      ],
      "text/plain": [
       "                                             input_ids  \\\n",
       "0    [0, 6, 185755, 50456, 919, 154, 2954, 13080, 1...   \n",
       "1    [0, 6, 55422, 31560, 14577, 14323, 6242, 4441,...   \n",
       "2    [0, 6, 9501, 10045, 217417, 6808, 154, 55422, ...   \n",
       "3    [0, 15974, 37, 3230, 19705, 281, 192783, 1925,...   \n",
       "4    [0, 6, 27932, 10045, 37023, 17462, 31814, 4138...   \n",
       "..                                                 ...   \n",
       "530  [0, 3691, 3752, 5139, 22503, 8779, 140430, 209...   \n",
       "531  [0, 6, 65322, 37, 2150, 20119, 5291, 2283, 302...   \n",
       "532  [0, 6, 116673, 154, 155313, 575, 37, 46900, 38...   \n",
       "533  [0, 6, 40247, 1147, 22899, 47051, 37, 41215, 9...   \n",
       "534  [0, 6, 66361, 228985, 6808, 154, 28242, 156018...   \n",
       "\n",
       "                                        attention_mask  \\\n",
       "0    [1, 1, 1, 1, 1, 1, 1, 1, 1, 1, 1, 1, 1, 1, 1, ...   \n",
       "1    [1, 1, 1, 1, 1, 1, 1, 1, 1, 1, 1, 1, 1, 1, 1, ...   \n",
       "2    [1, 1, 1, 1, 1, 1, 1, 1, 1, 1, 1, 1, 1, 1, 1, ...   \n",
       "3    [1, 1, 1, 1, 1, 1, 1, 1, 1, 1, 1, 1, 1, 1, 1, ...   \n",
       "4    [1, 1, 1, 1, 1, 1, 1, 1, 1, 1, 1, 1, 1, 1, 1, ...   \n",
       "..                                                 ...   \n",
       "530  [1, 1, 1, 1, 1, 1, 1, 1, 1, 1, 1, 1, 1, 1, 1, ...   \n",
       "531  [1, 1, 1, 1, 1, 1, 1, 1, 1, 1, 1, 1, 1, 1, 1, ...   \n",
       "532      [1, 1, 1, 1, 1, 1, 1, 1, 1, 1, 1, 1, 1, 1, 1]   \n",
       "533  [1, 1, 1, 1, 1, 1, 1, 1, 1, 1, 1, 1, 1, 1, 1, ...   \n",
       "534         [1, 1, 1, 1, 1, 1, 1, 1, 1, 1, 1, 1, 1, 1]   \n",
       "\n",
       "                                                labels  \\\n",
       "0    [0, 0, 0, 3, 3, 0, 0, 0, 0, 0, 0, 0, 0, 0, 0, ...   \n",
       "1    [0, 5, 5, 5, 5, 5, 5, 0, 1, 1, 0, 0, 0, 0, 0, ...   \n",
       "2    [0, 2, 2, 2, 2, 2, 0, 0, 0, 0, 0, 0, 0, 0, 0, ...   \n",
       "3    [0, 0, 0, 0, 0, 0, 0, 0, 0, 0, 0, 0, 0, 0, 0, ...   \n",
       "4    [0, 0, 0, 6, 6, 6, 6, 6, 6, 0, 1, 1, 1, 1, 1, ...   \n",
       "..                                                 ...   \n",
       "530  [0, 0, 7, 7, 7, 7, 7, 7, 7, 7, 7, 7, 0, 0, 0, ...   \n",
       "531  [0, 0, 0, 0, 3, 3, 3, 3, 3, 3, 0, 0, 0, 0, 0, ...   \n",
       "532      [0, 0, 0, 0, 0, 0, 0, 0, 0, 0, 0, 0, 0, 0, 0]   \n",
       "533  [0, 0, 0, 0, 0, 0, 0, 0, 0, 0, 0, 0, 0, 0, 0, ...   \n",
       "534         [0, 0, 0, 2, 2, 0, 7, 0, 0, 0, 0, 0, 0, 0]   \n",
       "\n",
       "                                                  loss  \\\n",
       "0    [0.0024523442, 0.0016349294, 0.0010371788, 0.3...   \n",
       "1    [0.0019601434, 5.0906296, 5.201472, 5.3190703,...   \n",
       "2    [0.0032714678, 0.019455321, 0.016702574, 0.016...   \n",
       "3    [0.0015376898, 0.0008931938, 0.0006227938, 0.0...   \n",
       "4    [0.0017930873, 0.0027236769, 0.0012497242, 0.3...   \n",
       "..                                                 ...   \n",
       "530  [0.0027869216, 0.0069671785, 0.027065467, 0.02...   \n",
       "531  [0.001760482, 0.0023461455, 0.001756436, 0.002...   \n",
       "532  [0.0021935469, 0.004627472, 0.0031695152, 0.00...   \n",
       "533  [0.002543074, 0.045256536, 0.046741482, 0.0569...   \n",
       "534  [0.0028945, 0.0022827538, 0.0014405599, 0.0591...   \n",
       "\n",
       "                                      predicted_labels  \\\n",
       "0    [0, 0, 0, 3, 3, 0, 0, 0, 0, 0, 0, 3, 3, 3, 3, ...   \n",
       "1    [0, 1, 1, 1, 1, 1, 1, 1, 1, 1, 0, 0, 0, 0, 0, ...   \n",
       "2    [0, 2, 2, 2, 2, 2, 0, 0, 0, 0, 0, 0, 0, 0, 0, ...   \n",
       "3    [0, 0, 0, 0, 0, 0, 0, 0, 0, 0, 0, 0, 0, 0, 0, ...   \n",
       "4    [0, 0, 0, 6, 6, 6, 6, 6, 6, 0, 3, 1, 1, 1, 1, ...   \n",
       "..                                                 ...   \n",
       "530  [0, 0, 7, 7, 7, 7, 7, 7, 7, 7, 7, 7, 0, 0, 0, ...   \n",
       "531  [0, 0, 0, 0, 3, 3, 3, 3, 3, 3, 0, 0, 0, 0, 0, ...   \n",
       "532  [0, 0, 0, 0, 0, 0, 0, 0, 0, 0, 0, 0, 0, 0, 0, ...   \n",
       "533  [0, 0, 0, 0, 0, 0, 0, 0, 0, 0, 0, 0, 0, 0, 0, ...   \n",
       "534  [0, 0, 0, 2, 2, 0, 0, 0, 0, 0, 0, 0, 0, 0, 0, ...   \n",
       "\n",
       "                                            label_tags  \\\n",
       "0    [O, O, O, ORG-P, ORG-P, O, O, O, O, O, O, O, O...   \n",
       "1    [O, LOC, LOC, LOC, LOC, LOC, LOC, O, PER, PER,...   \n",
       "2    [O, ORG, ORG, ORG, ORG, ORG, O, O, O, O, O, O,...   \n",
       "3    [O, O, O, O, O, O, O, O, O, O, O, O, O, O, O, ...   \n",
       "4    [O, O, O, INS, INS, INS, INS, INS, INS, O, PER...   \n",
       "..                                                 ...   \n",
       "530  [O, O, PRD, PRD, PRD, PRD, PRD, PRD, PRD, PRD,...   \n",
       "531  [O, O, O, O, ORG-P, ORG-P, ORG-P, ORG-P, ORG-P...   \n",
       "532      [O, O, O, O, O, O, O, O, O, O, O, O, O, O, O]   \n",
       "533  [O, O, O, O, O, O, O, O, O, O, O, O, O, O, O, ...   \n",
       "534   [O, O, O, ORG, ORG, O, PRD, O, O, O, O, O, O, O]   \n",
       "\n",
       "                                  predicted_label_tags  \n",
       "0    [O, O, O, ORG-P, ORG-P, O, O, O, O, O, O, ORG-...  \n",
       "1    [O, PER, PER, PER, PER, PER, PER, PER, PER, PE...  \n",
       "2    [O, ORG, ORG, ORG, ORG, ORG, O, O, O, O, O, O,...  \n",
       "3    [O, O, O, O, O, O, O, O, O, O, O, O, O, O, O, ...  \n",
       "4    [O, O, O, INS, INS, INS, INS, INS, INS, O, ORG...  \n",
       "..                                                 ...  \n",
       "530  [O, O, PRD, PRD, PRD, PRD, PRD, PRD, PRD, PRD,...  \n",
       "531  [O, O, O, O, ORG-P, ORG-P, ORG-P, ORG-P, ORG-P...  \n",
       "532      [O, O, O, O, O, O, O, O, O, O, O, O, O, O, O]  \n",
       "533  [O, O, O, O, O, O, O, O, O, O, O, O, O, O, O, ...  \n",
       "534     [O, O, O, ORG, ORG, O, O, O, O, O, O, O, O, O]  \n",
       "\n",
       "[535 rows x 7 columns]"
      ]
     },
     "execution_count": 26,
     "metadata": {},
     "output_type": "execute_result"
    }
   ],
   "source": [
    "test_output_df"
   ]
  },
  {
   "cell_type": "code",
   "execution_count": 27,
   "id": "5adda63f",
   "metadata": {},
   "outputs": [
    {
     "data": {
      "image/png": "[encoded data removed]",
      "text/plain": [
       "<Figure size 600x600 with 1 Axes>"
      ]
     },
     "metadata": {},
     "output_type": "display_data"
    }
   ],
   "source": [
    "from itertools import chain\n",
    "import matplotlib.pyplot as plt\n",
    "from sklearn.metrics import ConfusionMatrixDisplay, confusion_matrix\n",
    "\n",
    "conf_matrix = confusion_matrix(\n",
    "    list(chain.from_iterable(test_output_df[\"label_tags\"])),\n",
    "    list(chain.from_iterable(test_output_df[\"predicted_label_tags\"])),\n",
    "    normalize=\"true\")\n",
    "fig, ax = plt.subplots(figsize=(6, 6))\n",
    "conf_display = ConfusionMatrixDisplay(\n",
    "    confusion_matrix=conf_matrix,\n",
    "    display_labels=tags.names)\n",
    "conf_display.plot(cmap=\"Greens\", values_format=\".2f\", ax=ax, colorbar=False)\n",
    "plt.show()"
   ]
  },
  {
   "cell_type": "code",
   "execution_count": null,
   "id": "e7b4c854",
   "metadata": {},
   "outputs": [],
   "source": []
  }
 ],
 "metadata": {
  "kernelspec": {
   "display_name": "Python 3 (ipykernel)",
   "language": "python",
   "name": "python3"
  },
  "language_info": {
   "codemirror_mode": {
    "name": "ipython",
    "version": 3
   },
   "file_extension": ".py",
   "mimetype": "text/x-python",
   "name": "python",
   "nbconvert_exporter": "python",
   "pygments_lexer": "ipython3",
   "version": "3.8.10"
  }
 },
 "nbformat": 4,
 "nbformat_minor": 5
}
